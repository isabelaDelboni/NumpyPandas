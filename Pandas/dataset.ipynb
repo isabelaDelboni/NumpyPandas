{
 "cells": [
  {
   "cell_type": "code",
   "execution_count": 1,
   "metadata": {},
   "outputs": [],
   "source": [
    "import pandas as pd\n",
    "import matplotlib.pyplot as plt\n",
    "\n",
    "df = pd.read_csv('./Netflix TV Shows and Movies.csv')"
   ]
  },
  {
   "cell_type": "code",
   "execution_count": null,
   "metadata": {},
   "outputs": [],
   "source": [
    "df.head(10)"
   ]
  },
  {
   "cell_type": "code",
   "execution_count": null,
   "metadata": {},
   "outputs": [],
   "source": [
    "df.tail(10)"
   ]
  },
  {
   "cell_type": "code",
   "execution_count": null,
   "metadata": {},
   "outputs": [],
   "source": [
    "df.nlargest(1, 'imdb_score')\n"
   ]
  },
  {
   "cell_type": "code",
   "execution_count": null,
   "metadata": {},
   "outputs": [],
   "source": [
    "df['runtime'].mean()"
   ]
  },
  {
   "cell_type": "code",
   "execution_count": null,
   "metadata": {},
   "outputs": [],
   "source": [
    "maior_filme = df[df['type'] == 'MOVIE'].sort_values(by='runtime', ascending=False).iloc[0]\n",
    "\n",
    "maior_show = df[df['type'] == 'SHOW'].sort_values(by='runtime', ascending=False).iloc[0]\n",
    "\n",
    "# Exibir os resultados\n",
    "print(f\"O filme com maior duração é: {maior_filme['title']} com {maior_filme['runtime']} minutos.\")\n",
    "print(f\"O show com maior duração é: {maior_show['title']} com {maior_show['runtime']} minutos.\")"
   ]
  },
  {
   "cell_type": "code",
   "execution_count": null,
   "metadata": {},
   "outputs": [],
   "source": [
    "def getAnoComMaisVotos():\n",
    "   \n",
    "    filmes = df[df['type'] == 'MOVIE']\n",
    "    \n",
    "    votos_por_ano = filmes.groupby('release_year')['imdb_votes'].sum()\n",
    "\n",
    "    ano_com_mais_votos = votos_por_ano.idxmax()\n",
    "    quantidade = votos_por_ano.max()\n",
    "    return ano_com_mais_votos, quantidade\n",
    "\n",
    "\n",
    "ano, quantidade = getAnoComMaisVotos()\n",
    "print(f\"O ano com a maior quantidade de votos é: {ano} com {quantidade} votos.\")"
   ]
  },
  {
   "cell_type": "code",
   "execution_count": null,
   "metadata": {},
   "outputs": [],
   "source": [
    "def contarCategorias():\n",
    "\n",
    "    contagemCategorias = df['age_certification'].value_counts()\n",
    "    return contagemCategorias\n",
    "\n",
    "\n",
    "categorias = contarCategorias()\n",
    "print(\"Quantidade de filmes para cada categoria:\")\n",
    "print(categorias)"
   ]
  },
  {
   "cell_type": "code",
   "execution_count": null,
   "metadata": {},
   "outputs": [],
   "source": [
    "campos_vazios = df.isnull().sum()\n",
    "\n",
    "colunas_vazias = campos_vazios[campos_vazios > 0]\n",
    "\n",
    "print(\"Colunas com campos vazios:\")\n",
    "print(colunas_vazias)"
   ]
  },
  {
   "cell_type": "code",
   "execution_count": null,
   "metadata": {},
   "outputs": [],
   "source": [
    "mediaNota = df.groupby(['release_year', 'type'])['imdb_score'].mean().unstack()\n",
    "\n",
    "plt.figure(figsize=(12, 6))\n",
    "\n",
    "plt.subplot(1, 2, 1)\n",
    "mediaNota['MOVIE'].plot(kind='line', marker='o', color='blue')\n",
    "plt.title('Média de notas do IMDB ao passar dos anos (Filmes)')\n",
    "plt.xlabel('Ano de Lançamento')\n",
    "plt.ylabel('Média de votos IMDB')\n",
    "plt.xticks(mediaNota.index, rotation=45)\n",
    "plt.grid()\n",
    "\n",
    "plt.subplot(1, 2, 2)\n",
    "mediaNota['SHOW'].plot(kind='line', marker='o', color='orange')\n",
    "plt.title('Média de notas do IMDB ao passar dos anos (Séries)')\n",
    "plt.xlabel('Ano de Lançamento')\n",
    "plt.ylabel('Média de votos IMDB')\n",
    "plt.xticks(mediaNota.index, rotation=45)\n",
    "plt.grid()\n",
    "\n",
    "\n",
    "plt.tight_layout()\n",
    "plt.show()"
   ]
  },
  {
   "cell_type": "code",
   "execution_count": null,
   "metadata": {},
   "outputs": [],
   "source": [
    "mediaVotos = df.groupby(['release_year', 'type'])['imdb_votes'].mean().unstack()\n",
    "plt.figure(figsize=(12, 6))\n",
    "\n",
    "# Gráfico para filmes\n",
    "mediaVotos['MOVIE'].plot(kind='line', marker='o', label='Filmes', color='blue')\n",
    "plt.title('Média de Votos do IMDB ao longo dos anos (Filmes e Séries)')\n",
    "plt.xlabel('Ano de Lançamento')\n",
    "plt.ylabel('Média de Votos')\n",
    "plt.xticks(mediaNota.index, rotation=45)\n",
    "plt.grid()\n",
    "\n",
    "# Gráfico para shows\n",
    "mediaVotos['SHOW'].plot(kind='line', marker='o', color='orange', label='Séries')"
   ]
  }
 ],
 "metadata": {
  "kernelspec": {
   "display_name": "Python 3",
   "language": "python",
   "name": "python3"
  },
  "language_info": {
   "codemirror_mode": {
    "name": "ipython",
    "version": 3
   },
   "file_extension": ".py",
   "mimetype": "text/x-python",
   "name": "python",
   "nbconvert_exporter": "python",
   "pygments_lexer": "ipython3",
   "version": "3.11.9"
  }
 },
 "nbformat": 4,
 "nbformat_minor": 2
}
